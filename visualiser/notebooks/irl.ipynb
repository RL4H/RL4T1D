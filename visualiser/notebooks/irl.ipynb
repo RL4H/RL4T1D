{
 "cells": [
  {
   "cell_type": "code",
   "execution_count": 8,
   "metadata": {},
   "outputs": [],
   "source": [
    "#imports\n",
    "import os"
   ]
  },
  {
   "cell_type": "code",
   "execution_count": 32,
   "metadata": {},
   "outputs": [],
   "source": [
    "#declare file path variables here\n",
    "rl_f = os.path.abspath('../../results/mmp_proj_test/rl.txt')\n",
    "irl_f = os.path.abspath('../../results/mmp_proj_test/irl.txt')#(iter, traj#, timestep, x[0], x[1], action (or S))"
   ]
  },
  {
   "cell_type": "code",
   "execution_count": 72,
   "metadata": {},
   "outputs": [],
   "source": [
    "#gets values for plotting\n",
    "#reward values change over time\n",
    "def reward_var(file_name):\n",
    "    rtn = []\n",
    "    with open(file_name, 'r') as file:\n",
    "        for line in file.read().split('_'):\n",
    "            w = line.split('tensor')[-1][:-1]#removes the final \")\"\n",
    "            rtn.append([int(a) for a in w.split(', ')])\n",
    "    return rtn\n"
   ]
  },
  {
   "cell_type": "code",
   "execution_count": 73,
   "metadata": {},
   "outputs": [
    {
     "name": "stdout",
     "output_type": "stream",
     "text": [
      "1\n",
      "1\n",
      "1\n",
      "1\n"
     ]
    }
   ],
   "source": [
    "\n",
    "reward_var(irl_f)"
   ]
  },
  {
   "cell_type": "code",
   "execution_count": 57,
   "metadata": {},
   "outputs": [],
   "source": [
    "#returns list, percentage of time in range for each iteration\n",
    "def time_in_range(f_name, low, high):\n",
    "    iters = -1\n",
    "    total = 0\n",
    "    rtn = []\n",
    "    with open(f_name, 'r') as file:\n",
    "        for line in file:\n",
    "            curr_i, glucose = int(line.split(\",\")[0]), float(line.split(\",\")[3])\n",
    "            if curr_i == iters:\n",
    "                rtn[-1] += low <= glucose <= high\n",
    "                total +=1\n",
    "            else:\n",
    "                if iters != -1:\n",
    "                    rtn[-1] = rtn[-1]/total\n",
    "                iters +=1\n",
    "                total = 1\n",
    "                rtn.append(low<= glucose <= high)\n",
    "        rtn[-1] = rtn[-1]/total\n",
    "    return rtn"
   ]
  },
  {
   "cell_type": "code",
   "execution_count": 62,
   "metadata": {},
   "outputs": [],
   "source": [
    "tst = time_in_range(rl_f, -0.65, -0.6)"
   ]
  },
  {
   "cell_type": "code",
   "execution_count": 63,
   "metadata": {},
   "outputs": [
    {
     "data": {
      "text/plain": [
       "[0.3235294117647059]"
      ]
     },
     "execution_count": 63,
     "metadata": {},
     "output_type": "execute_result"
    }
   ],
   "source": [
    "tst"
   ]
  },
  {
   "cell_type": "code",
   "execution_count": null,
   "metadata": {},
   "outputs": [],
   "source": []
  }
 ],
 "metadata": {
  "kernelspec": {
   "display_name": "hons",
   "language": "python",
   "name": "python3"
  },
  "language_info": {
   "codemirror_mode": {
    "name": "ipython",
    "version": 3
   },
   "file_extension": ".py",
   "mimetype": "text/x-python",
   "name": "python",
   "nbconvert_exporter": "python",
   "pygments_lexer": "ipython3",
   "version": "3.10.12"
  }
 },
 "nbformat": 4,
 "nbformat_minor": 2
}
