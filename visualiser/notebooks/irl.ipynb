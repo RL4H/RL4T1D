{
 "cells": [
  {
   "cell_type": "code",
   "execution_count": 81,
   "metadata": {},
   "outputs": [],
   "source": [
    "#imports\n",
    "import os\n",
    "import torch\n",
    "import numpy as np\n",
    "import matplotlib.pyplot as plt"
   ]
  },
  {
   "cell_type": "code",
   "execution_count": 48,
   "metadata": {},
   "outputs": [],
   "source": [
    "#declare file path variables here\n",
    "rl_f = os.path.abspath('../../../results/pat0_t1/rl.txt')\n",
    "irl_f = os.path.abspath('../../../results/pat0_t1/irl.txt')#(iter, traj#, timestep, x[0], x[1], action (or S))"
   ]
  },
  {
   "cell_type": "code",
   "execution_count": 72,
   "metadata": {},
   "outputs": [],
   "source": [
    "#gets values for plotting\n",
    "#reward values change over time\n",
    "def reward_var(file_name):\n",
    "    rtn = []\n",
    "    with open(file_name, 'r') as file:\n",
    "        for line in file.read().split('_'):\n",
    "            w = line.split('tensor')[-1][:-1]#removes the final \")\"\n",
    "            rtn.append([int(a) for a in w.split(', ')])\n",
    "    return rtn\n"
   ]
  },
  {
   "cell_type": "code",
   "execution_count": 73,
   "metadata": {},
   "outputs": [
    {
     "name": "stdout",
     "output_type": "stream",
     "text": [
      "1\n",
      "1\n",
      "1\n",
      "1\n"
     ]
    }
   ],
   "source": [
    "\n",
    "reward_var(irl_f)"
   ]
  },
  {
   "cell_type": "code",
   "execution_count": 57,
   "metadata": {},
   "outputs": [],
   "source": [
    "#returns list, percentage of time in range for each iteration\n",
    "def time_in_range(f_name, low, high):\n",
    "    iters = -1\n",
    "    total = 0\n",
    "    rtn = []\n",
    "    with open(f_name, 'r') as file:\n",
    "        for line in file:\n",
    "            curr_i, glucose = int(line.split(\",\")[0]), float(line.split(\",\")[3])\n",
    "            if curr_i == iters:\n",
    "                rtn[-1] += low <= glucose <= high\n",
    "                total +=1\n",
    "            else:\n",
    "                if iters != -1:\n",
    "                    rtn[-1] = rtn[-1]/total\n",
    "                iters +=1\n",
    "                total = 1\n",
    "                rtn.append(low<= glucose <= high)\n",
    "        rtn[-1] = rtn[-1]/total\n",
    "    return rtn"
   ]
  },
  {
   "cell_type": "code",
   "execution_count": 62,
   "metadata": {},
   "outputs": [],
   "source": [
    "tst = time_in_range(rl_f, -0.65, -0.6)"
   ]
  },
  {
   "cell_type": "code",
   "execution_count": 63,
   "metadata": {},
   "outputs": [
    {
     "data": {
      "text/plain": [
       "[0.3235294117647059]"
      ]
     },
     "execution_count": 63,
     "metadata": {},
     "output_type": "execute_result"
    }
   ],
   "source": [
    "tst"
   ]
  },
  {
   "cell_type": "code",
   "execution_count": 74,
   "metadata": {},
   "outputs": [],
   "source": [
    "\n",
    "def avg_glucose_reward(fpath_rl, fpath_irl, iters):\n",
    "    ret = [] #list of (x, y) for each iteration to be plotted\n",
    "    res_from_file = dict() #stores results from file\n",
    "    reward_vals = dict()\n",
    "    WINDOW_SIZE = 12\n",
    "\n",
    "    #getting data from the rl_file\n",
    "    with open(fpath_rl) as f_rl:\n",
    "        for rl_line in f_rl:\n",
    "            rl_iter = int(rl_line.split(\", \")[0]) #irl iter of line in rl file\n",
    "            if rl_iter in iters: #want to plot\n",
    "                if rl_iter in res_from_file.keys():\n",
    "                    res_from_file[rl_iter].append(float(rl_line.split(\", \")[3]))\n",
    "                else:\n",
    "                    res_from_file[rl_iter] =[float(rl_line.split(\", \")[3])]\n",
    "    \n",
    "    #getting data from the irl file\n",
    "    with open(fpath_irl) as f_irl:\n",
    "        lines = f_irl.read().split(\"_\")[1:]\n",
    "        for line in lines:\n",
    "            rl_iter = int(line.split(\", \")[0])\n",
    "            if rl_iter in iters:#want to plot \n",
    "                reward_vals[rl_iter] = eval(\"torch.\" + (\", \".join(line.split(\",\")[13:-1]))) #doesnt work for iteration 0\n",
    "                \n",
    "    \n",
    "    #now we have the data, time to get what is to be plotted\n",
    "    for iter in iters:\n",
    "        x = []\n",
    "        y = []\n",
    "        w = reward_vals[iter]\n",
    "        g_vals = np.array(res_from_file[iter])\n",
    "        n = len(g_vals)\n",
    "        for i in range(n - WINDOW_SIZE): #+1?\n",
    "            curr_g = g_vals[i:i+WINDOW_SIZE]\n",
    "            x.append(np.average(curr_g))\n",
    "            y.append(np.tensordot(curr_g, w, 1))\n",
    "        ret.append((x, y))\n",
    "    \n",
    "    return ret\n",
    "\n",
    "\n",
    "\n"
   ]
  },
  {
   "cell_type": "code",
   "execution_count": 79,
   "metadata": {},
   "outputs": [
    {
     "name": "stdout",
     "output_type": "stream",
     "text": [
      "60\n"
     ]
    }
   ],
   "source": [
    "a = avg_glucose_reward(rl_f, irl_f, [200])\n",
    "print(len(a[0][1]))"
   ]
  },
  {
   "cell_type": "code",
   "execution_count": 83,
   "metadata": {},
   "outputs": [
    {
     "data": {
      "text/plain": [
       "<matplotlib.collections.PathCollection at 0x26ebf95d360>"
      ]
     },
     "execution_count": 83,
     "metadata": {},
     "output_type": "execute_result"
    },
    {
     "data": {
      "image/png": "[encoded data removed]",
      "text/plain": [
       "<Figure size 432x288 with 1 Axes>"
      ]
     },
     "metadata": {
      "needs_background": "light"
     },
     "output_type": "display_data"
    }
   ],
   "source": [
    "plt.scatter(a[0][0], a[0][1])"
   ]
  },
  {
   "cell_type": "markdown",
   "metadata": {},
   "source": []
  }
 ],
 "metadata": {
  "kernelspec": {
   "display_name": "hons",
   "language": "python",
   "name": "python3"
  },
  "language_info": {
   "codemirror_mode": {
    "name": "ipython",
    "version": 3
   },
   "file_extension": ".py",
   "mimetype": "text/x-python",
   "name": "python",
   "nbconvert_exporter": "python",
   "pygments_lexer": "ipython3",
   "version": "3.10.12"
  }
 },
 "nbformat": 4,
 "nbformat_minor": 2
}
